{
 "cells": [
  {
   "cell_type": "markdown",
   "id": "1b16d36b-d3b5-4969-ae6e-fea5f4f0982e",
   "metadata": {
    "tags": []
   },
   "source": [
    "# WorldWide Internet Prices\n",
    "\n",
    "1. [Preprocess data](#section1)  \n",
    "   1.1 [Features description](#section1.1)   \n",
    "   1.2 [Missing values](#section1.2)  \n",
    "   1.3 [Convert types](#section1.3)    \n",
    "   1.4 [Data distribution](#section1.4)\n",
    "2. [Internet prices relative to GDP](#section2)\n",
    "3. [Correlations](#section3)\n",
    "4. [Categorical data](#section4)"
   ]
  },
  {
   "cell_type": "code",
   "execution_count": 1,
   "id": "da23c489-68a3-4ff3-b9a8-8efe07d529d3",
   "metadata": {},
   "outputs": [],
   "source": [
    "import pandas as pd\n",
    "import numpy as np\n",
    "import matplotlib.pyplot as plt\n",
    "import seaborn as sns"
   ]
  },
  {
   "cell_type": "code",
   "execution_count": 3,
   "id": "ea190870-e240-498b-ab0b-c2a3def1bba7",
   "metadata": {},
   "outputs": [],
   "source": [
    "#2 לבדוק לפי יבשות ניצול אינטרנט וסיבה לצריכה הקיצונית|מינימלית"
   ]
  },
  {
   "cell_type": "code",
   "execution_count": 4,
   "id": "04eafbec-4bc8-4020-87fa-b488aa673e57",
   "metadata": {},
   "outputs": [],
   "source": [
    "#3 ההפרשים בין עלויות חבליות 2020 ו2021|||הפער שיווקי בין חבילה חודשית חד פעמית לחבילת קבע"
   ]
  },
  {
   "cell_type": "markdown",
   "id": "759fe716-58b7-47cc-979d-585b31f2e63a",
   "metadata": {},
   "source": [
    "Read and show data"
   ]
  },
  {
   "cell_type": "code",
   "execution_count": 5,
   "id": "4bd8a0dc-29af-440a-91fe-dd27709136bd",
   "metadata": {},
   "outputs": [
    {
     "data": {
      "text/html": [
       "<div>\n",
       "<style scoped>\n",
       "    .dataframe tbody tr th:only-of-type {\n",
       "        vertical-align: middle;\n",
       "    }\n",
       "\n",
       "    .dataframe tbody tr th {\n",
       "        vertical-align: top;\n",
       "    }\n",
       "\n",
       "    .dataframe thead th {\n",
       "        text-align: right;\n",
       "    }\n",
       "</style>\n",
       "<table border=\"1\" class=\"dataframe\">\n",
       "  <thead>\n",
       "    <tr style=\"text-align: right;\">\n",
       "      <th></th>\n",
       "      <th>S.NO</th>\n",
       "      <th>Country code</th>\n",
       "      <th>Country</th>\n",
       "      <th>Continental region</th>\n",
       "      <th>NO. OF Internet Plans</th>\n",
       "      <th>Average price of 1GB (USD)</th>\n",
       "      <th>Cheapest 1GB for 30 days (USD)</th>\n",
       "      <th>Most expensive 1GB (USD)</th>\n",
       "      <th>Average price of 1GB (USD  at the start of 2021)</th>\n",
       "      <th>Average price of 1GB (USD – at start of 2020)</th>\n",
       "      <th>Internet users</th>\n",
       "      <th>Population</th>\n",
       "      <th>Avg \\n(Mbit/s)Ookla</th>\n",
       "    </tr>\n",
       "  </thead>\n",
       "  <tbody>\n",
       "    <tr>\n",
       "      <th>0</th>\n",
       "      <td>0</td>\n",
       "      <td>IL</td>\n",
       "      <td>Israel</td>\n",
       "      <td>NEAR EAST</td>\n",
       "      <td>27.0</td>\n",
       "      <td>0.05</td>\n",
       "      <td>0.02</td>\n",
       "      <td>20.95</td>\n",
       "      <td>0.11</td>\n",
       "      <td>0.9</td>\n",
       "      <td>6,788,737</td>\n",
       "      <td>8,381,516</td>\n",
       "      <td>28.01</td>\n",
       "    </tr>\n",
       "    <tr>\n",
       "      <th>1</th>\n",
       "      <td>1</td>\n",
       "      <td>KG</td>\n",
       "      <td>Kyrgyzstan</td>\n",
       "      <td>CIS (FORMER USSR)</td>\n",
       "      <td>20.0</td>\n",
       "      <td>0.15</td>\n",
       "      <td>0.10</td>\n",
       "      <td>7.08</td>\n",
       "      <td>0.21</td>\n",
       "      <td>0.27</td>\n",
       "      <td>2,309,235</td>\n",
       "      <td>6,304,030</td>\n",
       "      <td>16.30</td>\n",
       "    </tr>\n",
       "    <tr>\n",
       "      <th>2</th>\n",
       "      <td>2</td>\n",
       "      <td>FJ</td>\n",
       "      <td>Fiji</td>\n",
       "      <td>OCEANIA</td>\n",
       "      <td>18.0</td>\n",
       "      <td>0.19</td>\n",
       "      <td>0.05</td>\n",
       "      <td>0.85</td>\n",
       "      <td>0.59</td>\n",
       "      <td>3.57</td>\n",
       "      <td>452,479</td>\n",
       "      <td>883,483</td>\n",
       "      <td>25.99</td>\n",
       "    </tr>\n",
       "    <tr>\n",
       "      <th>3</th>\n",
       "      <td>3</td>\n",
       "      <td>IT</td>\n",
       "      <td>Italy</td>\n",
       "      <td>WESTERN EUROPE</td>\n",
       "      <td>29.0</td>\n",
       "      <td>0.27</td>\n",
       "      <td>0.09</td>\n",
       "      <td>3.54</td>\n",
       "      <td>0.43</td>\n",
       "      <td>1.73</td>\n",
       "      <td>50,540,000</td>\n",
       "      <td>60,627,291</td>\n",
       "      <td>37.15</td>\n",
       "    </tr>\n",
       "    <tr>\n",
       "      <th>4</th>\n",
       "      <td>4</td>\n",
       "      <td>SD</td>\n",
       "      <td>Sudan</td>\n",
       "      <td>SUB-SAHARAN AFRICA</td>\n",
       "      <td>33.0</td>\n",
       "      <td>0.27</td>\n",
       "      <td>0.03</td>\n",
       "      <td>0.92</td>\n",
       "      <td>0.63</td>\n",
       "      <td>0.68</td>\n",
       "      <td>12,512,639</td>\n",
       "      <td>41,801,533</td>\n",
       "      <td>9.50</td>\n",
       "    </tr>\n",
       "  </tbody>\n",
       "</table>\n",
       "</div>"
      ],
      "text/plain": [
       "   S.NO Country code     Country  Continental region  NO. OF Internet Plans  \\\n",
       "0     0           IL      Israel           NEAR EAST                   27.0   \n",
       "1     1           KG  Kyrgyzstan   CIS (FORMER USSR)                   20.0   \n",
       "2     2           FJ        Fiji             OCEANIA                   18.0   \n",
       "3     3           IT       Italy      WESTERN EUROPE                   29.0   \n",
       "4     4           SD       Sudan  SUB-SAHARAN AFRICA                   33.0   \n",
       "\n",
       "  Average price of 1GB (USD)  Cheapest 1GB for 30 days (USD)  \\\n",
       "0                       0.05                            0.02   \n",
       "1                       0.15                            0.10   \n",
       "2                       0.19                            0.05   \n",
       "3                       0.27                            0.09   \n",
       "4                       0.27                            0.03   \n",
       "\n",
       "   Most expensive 1GB (USD) Average price of 1GB (USD  at the start of 2021)  \\\n",
       "0                     20.95                                             0.11   \n",
       "1                      7.08                                             0.21   \n",
       "2                      0.85                                             0.59   \n",
       "3                      3.54                                             0.43   \n",
       "4                      0.92                                             0.63   \n",
       "\n",
       "  Average price of 1GB (USD – at start of 2020) Internet users  Population  \\\n",
       "0                                           0.9      6,788,737   8,381,516   \n",
       "1                                          0.27      2,309,235   6,304,030   \n",
       "2                                          3.57        452,479     883,483   \n",
       "3                                          1.73     50,540,000  60,627,291   \n",
       "4                                          0.68     12,512,639  41,801,533   \n",
       "\n",
       "   Avg \\n(Mbit/s)Ookla  \n",
       "0                28.01  \n",
       "1                16.30  \n",
       "2                25.99  \n",
       "3                37.15  \n",
       "4                 9.50  "
      ]
     },
     "execution_count": 5,
     "metadata": {},
     "output_type": "execute_result"
    }
   ],
   "source": [
    "data_url = 'https://raw.githubusercontent.com/RonAlfi/worldwide-internet-1GB-speed-2021-2022/main/Internet%20Prices%20Data.csv'\n",
    "internet_df = pd.read_csv(data_url)\n",
    "internet_df.head(5)"
   ]
  },
  {
   "cell_type": "markdown",
   "id": "f8e13da5-8b51-4e70-8652-1459ed4cb569",
   "metadata": {},
   "source": [
    "---\n",
    "<a id='section1'></a>\n",
    "### 1. Preprocess data</br>\n",
    "\n",
    "<a id='section1.1'></a>\n",
    "#### 1.1 Features description\n",
    "Rename features to simpler names:"
   ]
  },
  {
   "cell_type": "code",
   "execution_count": 6,
   "id": "df220a55-67d8-4832-81cc-223eec4af988",
   "metadata": {},
   "outputs": [],
   "source": [
    "internet_df.set_index('S.NO', inplace=True)\n",
    "internet_df.rename(\n",
    "    columns={\n",
    "        \"Continental region\": \"Region\",\n",
    "        \"NO. OF Internet Plans\": \"Internet Plans\",\n",
    "        \"Average price of 1GB (USD)\": \"Average Price\",\n",
    "        \"Cheapest 1GB for 30 days (USD)\": \"Lowest Price\", \n",
    "        \"Most expensive 1GB (USD)\" : \"Highest Price\", \n",
    "        \"Average price of 1GB (USD  at the start of 2021)\": \"Avg price 2021\", \n",
    "        \"Average price of 1GB (USD – at start of 2020)\": \"Avg price 2020\",\n",
    "        \"Avg \\n(Mbit/s)Ookla\": \"Avg speed\"\n",
    "    }, inplace=True)"
   ]
  },
  {
   "cell_type": "markdown",
   "id": "4c5a2532-3193-4c00-a804-f18e9464905a",
   "metadata": {
    "tags": []
   },
   "source": [
    "<ul>\n",
    "    <li>Country - The country name.</li>\n",
    "    <li>Country code - unique shortcut of the country name.</li>\n",
    "    <li>Region - of the world to which the country belongs.</li>\n",
    "    <li>Internet Plans - number of internet services offered for purchase in the country.</li>\n",
    "    <li>Averge Price - for 1GB in US dollars.</li>\n",
    "    <li>Lowest Price - for 1GB in US dollars.</li>\n",
    "    <li>Highest Price - for 1GB in US dollars.</li>\n",
    "    <li>Avg price 2021 - average price for 1GB in 2021 in US dollars.</li>\n",
    "    <li>Avg price 2020 - average price for 1GB in 2020 in US dollars.</li>\n",
    "    <li>Internet users - number of internet users in the country.</li>\n",
    "    <li>Population - number of people residing in the country.</li>\n",
    "    <li>Avg speed - internet speed. Number of MB per second as tested by Ookla.</li>\n",
    "</ul>"
   ]
  },
  {
   "cell_type": "markdown",
   "id": "31767ac8-84b7-4027-9c5b-1e100fdb1708",
   "metadata": {},
   "source": [
    "<a id='section1.2'></a>\n",
    "#### 1.2 Missing values"
   ]
  },
  {
   "cell_type": "code",
   "execution_count": 7,
   "id": "203398af-dd58-42ee-92be-48c3816e5a52",
   "metadata": {},
   "outputs": [
    {
     "name": "stdout",
     "output_type": "stream",
     "text": [
      "<class 'pandas.core.frame.DataFrame'>\n",
      "Int64Index: 242 entries, 0 to 243\n",
      "Data columns (total 12 columns):\n",
      " #   Column          Non-Null Count  Dtype  \n",
      "---  ------          --------------  -----  \n",
      " 0   Country code    242 non-null    object \n",
      " 1   Country         242 non-null    object \n",
      " 2   Region          242 non-null    object \n",
      " 3   Internet Plans  231 non-null    float64\n",
      " 4   Average Price   242 non-null    object \n",
      " 5   Lowest Price    231 non-null    float64\n",
      " 6   Highest Price   231 non-null    float64\n",
      " 7   Avg price 2021  231 non-null    object \n",
      " 8   Avg price 2020  231 non-null    object \n",
      " 9   Internet users  212 non-null    object \n",
      " 10  Population      210 non-null    object \n",
      " 11  Avg speed       141 non-null    float64\n",
      "dtypes: float64(4), object(8)\n",
      "memory usage: 24.6+ KB\n"
     ]
    }
   ],
   "source": [
    "internet_df.info()"
   ]
  },
  {
   "cell_type": "markdown",
   "id": "9a138789-c2ea-4f94-980b-782fa443998d",
   "metadata": {},
   "source": [
    "Drop 'Avg speed' which has a lot of missing values."
   ]
  },
  {
   "cell_type": "code",
   "execution_count": 8,
   "id": "3f58a4a6-9aa6-4ccb-a1f1-dcbf2084bdfe",
   "metadata": {},
   "outputs": [],
   "source": [
    "internet_df.drop('Avg speed', axis=1, inplace=True)"
   ]
  },
  {
   "cell_type": "markdown",
   "id": "d2d2afc2-1677-468c-8e81-d796902c97c1",
   "metadata": {},
   "source": [
    "Drop all countries with no internet services or duplicates."
   ]
  },
  {
   "cell_type": "code",
   "execution_count": 9,
   "id": "b45b1540-e947-4ef5-b9f3-1a27e89531f3",
   "metadata": {},
   "outputs": [
    {
     "name": "stdout",
     "output_type": "stream",
     "text": [
      "<class 'pandas.core.frame.DataFrame'>\n",
      "RangeIndex: 229 entries, 0 to 228\n",
      "Data columns (total 11 columns):\n",
      " #   Column          Non-Null Count  Dtype  \n",
      "---  ------          --------------  -----  \n",
      " 0   Country code    229 non-null    object \n",
      " 1   Country         229 non-null    object \n",
      " 2   Region          229 non-null    object \n",
      " 3   Internet Plans  229 non-null    float64\n",
      " 4   Average Price   229 non-null    object \n",
      " 5   Lowest Price    229 non-null    float64\n",
      " 6   Highest Price   229 non-null    float64\n",
      " 7   Avg price 2021  229 non-null    object \n",
      " 8   Avg price 2020  229 non-null    object \n",
      " 9   Internet users  203 non-null    object \n",
      " 10  Population      201 non-null    object \n",
      "dtypes: float64(3), object(8)\n",
      "memory usage: 19.8+ KB\n"
     ]
    }
   ],
   "source": [
    "internet_df.dropna(subset='Internet Plans', inplace=True)\n",
    "internet_df.drop_duplicates(subset=['Country code'], inplace=True)\n",
    "internet_df.reset_index(drop=True, inplace=True)\n",
    "internet_df.info()"
   ]
  },
  {
   "cell_type": "markdown",
   "id": "05618ad3-3a2a-4205-8bc2-52aad8245685",
   "metadata": {},
   "source": [
    "<a id='section1.3'></a>\n",
    "#### 1.3 Convert types"
   ]
  },
  {
   "cell_type": "code",
   "execution_count": 10,
   "id": "cc5031e9-91d2-4e7a-b703-d2a3d35afe0c",
   "metadata": {},
   "outputs": [
    {
     "data": {
      "text/plain": [
       "Country code       string\n",
       "Country            string\n",
       "Region             string\n",
       "Internet Plans      Int64\n",
       "Average Price      string\n",
       "Lowest Price      Float64\n",
       "Highest Price     Float64\n",
       "Avg price 2021     string\n",
       "Avg price 2020     string\n",
       "Internet users     string\n",
       "Population         string\n",
       "dtype: object"
      ]
     },
     "execution_count": 10,
     "metadata": {},
     "output_type": "execute_result"
    }
   ],
   "source": [
    "internet_df = internet_df.convert_dtypes()\n",
    "internet_df.dtypes"
   ]
  },
  {
   "cell_type": "markdown",
   "id": "0e6a1214-859f-4155-bc05-1cf81d106bed",
   "metadata": {},
   "source": [
    "Some of the features converted to string and not numeric.  \n",
    "Lets search what string they contain."
   ]
  },
  {
   "cell_type": "code",
   "execution_count": 11,
   "id": "7d21c61c-7bb5-40da-9e6e-d77539e6f63a",
   "metadata": {},
   "outputs": [
    {
     "data": {
      "text/html": [
       "<div>\n",
       "<style scoped>\n",
       "    .dataframe tbody tr th:only-of-type {\n",
       "        vertical-align: middle;\n",
       "    }\n",
       "\n",
       "    .dataframe tbody tr th {\n",
       "        vertical-align: top;\n",
       "    }\n",
       "\n",
       "    .dataframe thead th {\n",
       "        text-align: right;\n",
       "    }\n",
       "</style>\n",
       "<table border=\"1\" class=\"dataframe\">\n",
       "  <thead>\n",
       "    <tr style=\"text-align: right;\">\n",
       "      <th></th>\n",
       "      <th>Country code</th>\n",
       "      <th>Country</th>\n",
       "      <th>Region</th>\n",
       "      <th>Internet Plans</th>\n",
       "      <th>Average Price</th>\n",
       "      <th>Lowest Price</th>\n",
       "      <th>Highest Price</th>\n",
       "      <th>Avg price 2021</th>\n",
       "      <th>Avg price 2020</th>\n",
       "      <th>Internet users</th>\n",
       "      <th>Population</th>\n",
       "    </tr>\n",
       "  </thead>\n",
       "  <tbody>\n",
       "    <tr>\n",
       "      <th>159</th>\n",
       "      <td>CK</td>\n",
       "      <td>Cook Islands</td>\n",
       "      <td>OCEANIA</td>\n",
       "      <td>9</td>\n",
       "      <td>3.5</td>\n",
       "      <td>1.49</td>\n",
       "      <td>11.42</td>\n",
       "      <td>NO PACKAGES</td>\n",
       "      <td>5.56</td>\n",
       "      <td>&lt;NA&gt;</td>\n",
       "      <td>&lt;NA&gt;</td>\n",
       "    </tr>\n",
       "    <tr>\n",
       "      <th>193</th>\n",
       "      <td>VU</td>\n",
       "      <td>Vanuatu</td>\n",
       "      <td>OCEANIA</td>\n",
       "      <td>23</td>\n",
       "      <td>6.06</td>\n",
       "      <td>0.75</td>\n",
       "      <td>28.23</td>\n",
       "      <td>4.25</td>\n",
       "      <td>NO PACKAGES</td>\n",
       "      <td>71,050</td>\n",
       "      <td>292,680</td>\n",
       "    </tr>\n",
       "    <tr>\n",
       "      <th>194</th>\n",
       "      <td>TV</td>\n",
       "      <td>Tuvalu</td>\n",
       "      <td>OCEANIA</td>\n",
       "      <td>9</td>\n",
       "      <td>6.35</td>\n",
       "      <td>5.72</td>\n",
       "      <td>10.17</td>\n",
       "      <td>NO PACKAGES</td>\n",
       "      <td>12.42</td>\n",
       "      <td>5,520</td>\n",
       "      <td>11,508</td>\n",
       "    </tr>\n",
       "    <tr>\n",
       "      <th>202</th>\n",
       "      <td>CU</td>\n",
       "      <td>Cuba</td>\n",
       "      <td>CARIBBEAN</td>\n",
       "      <td>9</td>\n",
       "      <td>7.5</td>\n",
       "      <td>3.2</td>\n",
       "      <td>12.5</td>\n",
       "      <td>13.33</td>\n",
       "      <td>NO PACKAGES</td>\n",
       "      <td>5,638,956</td>\n",
       "      <td>11,338,134</td>\n",
       "    </tr>\n",
       "    <tr>\n",
       "      <th>218</th>\n",
       "      <td>CC</td>\n",
       "      <td>Cocos (Keeling) Islands</td>\n",
       "      <td>OCEANIA</td>\n",
       "      <td>2</td>\n",
       "      <td>13.47</td>\n",
       "      <td>7.62</td>\n",
       "      <td>19.32</td>\n",
       "      <td>16.98</td>\n",
       "      <td>NO PACKAGES</td>\n",
       "      <td>&lt;NA&gt;</td>\n",
       "      <td>&lt;NA&gt;</td>\n",
       "    </tr>\n",
       "  </tbody>\n",
       "</table>\n",
       "</div>"
      ],
      "text/plain": [
       "    Country code                  Country     Region  Internet Plans  \\\n",
       "159           CK             Cook Islands    OCEANIA               9   \n",
       "193           VU                  Vanuatu    OCEANIA              23   \n",
       "194           TV                   Tuvalu    OCEANIA               9   \n",
       "202           CU                     Cuba  CARIBBEAN               9   \n",
       "218           CC  Cocos (Keeling) Islands    OCEANIA               2   \n",
       "\n",
       "    Average Price  Lowest Price  Highest Price Avg price 2021 Avg price 2020  \\\n",
       "159           3.5          1.49          11.42    NO PACKAGES           5.56   \n",
       "193          6.06          0.75          28.23           4.25    NO PACKAGES   \n",
       "194          6.35          5.72          10.17    NO PACKAGES          12.42   \n",
       "202           7.5           3.2           12.5          13.33    NO PACKAGES   \n",
       "218         13.47          7.62          19.32          16.98    NO PACKAGES   \n",
       "\n",
       "    Internet users  Population  \n",
       "159           <NA>        <NA>  \n",
       "193         71,050     292,680  \n",
       "194          5,520      11,508  \n",
       "202      5,638,956  11,338,134  \n",
       "218           <NA>        <NA>  "
      ]
     },
     "execution_count": 11,
     "metadata": {},
     "output_type": "execute_result"
    }
   ],
   "source": [
    "internet_df[\n",
    "    (internet_df['Average Price'].str.contains('^[0-9]', regex=True) == False) | \n",
    "    (internet_df['Avg price 2020'].str.contains('^[0-9]', regex=True) == False) |\n",
    "    (internet_df['Avg price 2021'].str.contains('^[0-9]', regex=True) == False)\n",
    "]"
   ]
  },
  {
   "cell_type": "code",
   "execution_count": 12,
   "id": "89454ef9-b7f2-42d4-a17e-03b52eb567bc",
   "metadata": {},
   "outputs": [],
   "source": [
    "internet_df['Avg price 2020'].replace(\"NO PACKAGES\", '0', inplace=True)\n",
    "internet_df['Avg price 2021'].replace(\"NO PACKAGES\", '0', inplace=True)"
   ]
  },
  {
   "cell_type": "markdown",
   "id": "4921115d-1edd-4e8c-855e-a4809f2e589d",
   "metadata": {},
   "source": [
    "Remove the comma from the last two features so we can convert them to numbers."
   ]
  },
  {
   "cell_type": "code",
   "execution_count": 13,
   "id": "e3375f53-2c35-4f5e-8356-f42d6ff9400d",
   "metadata": {},
   "outputs": [],
   "source": [
    "internet_df['Internet users'] = internet_df['Internet users'].str.replace(',', '')\n",
    "internet_df['Population'] = internet_df['Population'].str.replace(',', '')"
   ]
  },
  {
   "cell_type": "markdown",
   "id": "ddf5296b-fd54-452d-aa86-558daa9da069",
   "metadata": {},
   "source": [
    "Cast correct data types on features"
   ]
  },
  {
   "cell_type": "code",
   "execution_count": 14,
   "id": "6d8bb10f-7607-490f-88dc-9fce732548b3",
   "metadata": {},
   "outputs": [
    {
     "data": {
      "text/plain": [
       "Country code       string\n",
       "Country            string\n",
       "Region             string\n",
       "Internet Plans      Int64\n",
       "Average Price     float64\n",
       "Lowest Price      Float64\n",
       "Highest Price     Float64\n",
       "Avg price 2021    float64\n",
       "Avg price 2020    float64\n",
       "Internet users    float64\n",
       "Population        float64\n",
       "dtype: object"
      ]
     },
     "execution_count": 14,
     "metadata": {},
     "output_type": "execute_result"
    }
   ],
   "source": [
    "internet_df = internet_df.astype({\n",
    "    'Average Price': 'float', \n",
    "    'Avg price 2020': 'float', \n",
    "    'Avg price 2021': 'float',\n",
    "    'Internet users': 'float',\n",
    "    'Population': 'float'\n",
    "})\n",
    "internet_df.dtypes"
   ]
  },
  {
   "cell_type": "markdown",
   "id": "0d360317-6ad7-45d3-b8a4-e06e72ee82d2",
   "metadata": {},
   "source": [
    "<a id='section1.4'></a>\n",
    "#### 1.4 Data distribution"
   ]
  },
  {
   "cell_type": "code",
   "execution_count": 15,
   "id": "b0c336ab-bcd0-4580-91d9-31a83a8e21ed",
   "metadata": {},
   "outputs": [],
   "source": [
    "features = ['Internet Plans', 'Average Price', 'Lowest Price', 'Highest Price', \n",
    "            'Avg price 2020', 'Avg price 2021', 'Internet users', 'Population']\n",
    "melted_internet_df = pd.melt(internet_df[features], value_vars = features)"
   ]
  },
  {
   "cell_type": "code",
   "execution_count": 16,
   "id": "c80aae2b-d330-43af-89bd-96b661c47b7e",
   "metadata": {},
   "outputs": [
    {
     "data": {
      "image/png": "[encoded data removed]",
      "text/plain": [
       "<Figure size 648x648 with 8 Axes>"
      ]
     },
     "metadata": {
      "needs_background": "light"
     },
     "output_type": "display_data"
    }
   ],
   "source": [
    "g = sns.FacetGrid(data = melted_internet_df, col=\"variable\", col_wrap=3, sharex=False, sharey=False)\n",
    "g.map_dataframe(sns.histplot, x='value')\n",
    "plt.show()"
   ]
  },
  {
   "cell_type": "code",
   "execution_count": 17,
   "id": "acc59f51-29fd-4297-a677-9580bc9c560e",
   "metadata": {},
   "outputs": [
    {
     "data": {
      "image/png": "[encoded data removed]",
      "text/plain": [
       "<Figure size 648x648 with 8 Axes>"
      ]
     },
     "metadata": {
      "needs_background": "light"
     },
     "output_type": "display_data"
    }
   ],
   "source": [
    "g = sns.FacetGrid(data = melted_internet_df, col=\"variable\", col_wrap=3, sharex=False, sharey=False)\n",
    "g.map_dataframe(sns.boxplot, y='value')\n",
    "plt.show()"
   ]
  },
  {
   "cell_type": "markdown",
   "id": "b1400550-9582-487d-af14-c3b71b2927e6",
   "metadata": {},
   "source": [
    "---\n",
    "<a id='section2'></a>\n",
    "### 2. Internet prices relative to GDP"
   ]
  },
  {
   "cell_type": "markdown",
   "id": "f04c8e46-b240-4645-8825-292f09584913",
   "metadata": {},
   "source": [
    "Examine Which region of the world pays the most for internet and which region pays the least."
   ]
  },
  {
   "cell_type": "code",
   "execution_count": 141,
   "id": "25a6dcfb-016d-4f85-92bb-a15422b58c8e",
   "metadata": {},
   "outputs": [],
   "source": [
    "features = ['Region', 'Average Price', 'Lowest Price', 'Highest Price']\n",
    "melted_internet_df = pd.melt(internet_df[features], id_vars='Region', value_vars = features)\n",
    "# sort region by average price\n",
    "avg_sorted = internet_df.groupby('Region')['Average Price'].mean().reset_index().sort_values('Average Price')"
   ]
  },
  {
   "cell_type": "code",
   "execution_count": 142,
   "id": "fdfc5155-adb2-4e7e-bc14-79947f4c6655",
   "metadata": {},
   "outputs": [
    {
     "data": {
      "text/plain": [
       "[(0.0, 130.0), Text(0.5, 6.79999999999999, '1GB Highest price')]"
      ]
     },
     "execution_count": 142,
     "metadata": {},
     "output_type": "execute_result"
    },
    {
     "data": {
      "image/png": "[encoded data removed]",
      "text/plain": [
       "<Figure size 1080x360 with 3 Axes>"
      ]
     },
     "metadata": {
      "needs_background": "light"
     },
     "output_type": "display_data"
    }
   ],
   "source": [
    "g = sns.catplot(\n",
    "    data=melted_internet_df, x='value', y='Region', col='variable', \n",
    "    kind='box', col_wrap=3, order=avg_sorted['Region'], sharex=False\n",
    ")\n",
    "g.set_titles(col_template=\"1GB {col_name} by continental region\")\n",
    "g.set_ylabels('Continental region')\n",
    "g.axes[0].set(xlim=(0, 15), xlabel='1GB Average price')\n",
    "g.axes[1].set(xlim=(0, 7), xlabel='1GB Lowest price')\n",
    "g.axes[2].set(xlim=(0, 130), xlabel='1GB Highest price')"
   ]
  },
  {
   "cell_type": "markdown",
   "id": "6c3559cd-f50e-40f7-a11c-5825eecf3cca",
   "metadata": {},
   "source": [
    "<b>Conclusion</b>:  \n",
    "Regions that pay the most: Northern America, Oceania, Sub-Saharan Africa and Caribbean.  \n",
    "Regions that pay the least: Northern Africa, CIS (former USSR) South and Central America."
   ]
  },
  {
   "cell_type": "code",
   "execution_count": null,
   "id": "33a66e20-3289-4e3e-a06c-6f25191b0f39",
   "metadata": {},
   "outputs": [],
   "source": []
  }
 ],
 "metadata": {
  "kernelspec": {
   "display_name": "Python 3 (ipykernel)",
   "language": "python",
   "name": "python3"
  },
  "language_info": {
   "codemirror_mode": {
    "name": "ipython",
    "version": 3
   },
   "file_extension": ".py",
   "mimetype": "text/x-python",
   "name": "python",
   "nbconvert_exporter": "python",
   "pygments_lexer": "ipython3",
   "version": "3.9.0"
  }
 },
 "nbformat": 4,
 "nbformat_minor": 5
}
